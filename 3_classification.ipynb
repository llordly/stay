{
 "cells": [
  {
   "cell_type": "code",
   "execution_count": 12,
   "metadata": {},
   "outputs": [
    {
     "ename": "ModuleNotFoundError",
     "evalue": "No module named 'skmob'",
     "output_type": "error",
     "traceback": [
      "\u001b[0;31m---------------------------------------------------------------------------\u001b[0m",
      "\u001b[0;31mModuleNotFoundError\u001b[0m                       Traceback (most recent call last)",
      "\u001b[1;32m/Users/lordly/stay/3_classification.ipynb Cell 1\u001b[0m in \u001b[0;36m<cell line: 1>\u001b[0;34m()\u001b[0m\n\u001b[0;32m----> <a href='vscode-notebook-cell:/Users/lordly/stay/3_classification.ipynb#W0sZmlsZQ%3D%3D?line=0'>1</a>\u001b[0m \u001b[39mimport\u001b[39;00m \u001b[39mskmob\u001b[39;00m\n\u001b[1;32m      <a href='vscode-notebook-cell:/Users/lordly/stay/3_classification.ipynb#W0sZmlsZQ%3D%3D?line=1'>2</a>\u001b[0m \u001b[39mimport\u001b[39;00m \u001b[39mpandas\u001b[39;00m \u001b[39mas\u001b[39;00m \u001b[39mpd\u001b[39;00m\n\u001b[1;32m      <a href='vscode-notebook-cell:/Users/lordly/stay/3_classification.ipynb#W0sZmlsZQ%3D%3D?line=2'>3</a>\u001b[0m \u001b[39mimport\u001b[39;00m \u001b[39mcsv\u001b[39;00m\u001b[39m,\u001b[39m \u001b[39mos\u001b[39;00m\u001b[39m,\u001b[39m \u001b[39msys\u001b[39;00m\u001b[39m,\u001b[39m \u001b[39mjson\u001b[39;00m\n",
      "\u001b[0;31mModuleNotFoundError\u001b[0m: No module named 'skmob'"
     ]
    }
   ],
   "source": [
    "import skmob\n",
    "import pandas as pd\n",
    "import csv, os, sys, json\n",
    "import urllib.request\n",
    "from skmob.preprocessing import clustering\n"
   ]
  },
  {
   "cell_type": "code",
   "execution_count": null,
   "metadata": {},
   "outputs": [],
   "source": [
    "def coords_to_place(x, y):\n",
    "    client_id = \"ktta1uumf3\"\n",
    "    client_secret = \"PDFJ27DxqU6bQSsf40GE9DwybUnlgRzZnni42Dqi\"\n",
    "    coords = ','.join([x, y])\n",
    "    url = \"https://naveropenapi.apigw.ntruss.com/map-reversegeocode/v2/gc?request=coordsToaddr&coords=\" + \\\n",
    "        coords + \"&sourcecrs=epsg:4326&output=json&orders=roadaddr\"\n",
    "    # url = \"https://openapi.naver.com/v1/search/blog.xml?query=\" + encText # XML 결과\n",
    "    request = urllib.request.Request(url)\n",
    "    request.add_header(\"X-NCP-APIGW-API-KEY-ID\", client_id)\n",
    "    request.add_header(\"X-NCP-APIGW-API-KEY\", client_secret)\n",
    "    response = urllib.request.urlopen(request)\n",
    "    rescode = response.getcode()\n",
    "    if (rescode == 200):\n",
    "        response_body = response.read()\n",
    "        addr_info = response_body.decode('utf-8')\n",
    "        addr_info = json.loads(addr_info)\n",
    "    else:\n",
    "        print(\"Error Code:\" + rescode)\n",
    "\n",
    "    results = addr_info['results'][0]\n",
    "    land = results['land']\n",
    "    building_name = land['addition0']['value']\n",
    "    road_name = land['name']\n",
    "    number1 = land['number1']\n",
    "    number2 = land['number2']\n",
    "\n",
    "    # search = ' '.join([building_name, road_name, number1, number2])\n",
    "    search = building_name\n",
    "\n",
    "    # print(f\"building name: {building_name} road addr: {road_name} {number1} {number2}\")\n",
    "    # print(search)\n",
    "    return search"
   ]
  },
  {
   "cell_type": "code",
   "execution_count": null,
   "metadata": {},
   "outputs": [],
   "source": [
    "def place_to_category(place):\n",
    "    client_id = \"G3_TXQoFDd0lBFsM8fpG\"\n",
    "    client_secret = \"oJaqz0CK0W\"\n",
    "    encText = urllib.parse.quote(place)\n",
    "    url = \"https://openapi.naver.com/v1/search/local?query=\" + encText  # JSON 결과\n",
    "    # url = \"https://openapi.naver.com/v1/search/blog.xml?query=\" + encText # XML 결과\n",
    "    request = urllib.request.Request(url)\n",
    "    request.add_header(\"X-Naver-Client-Id\", client_id)\n",
    "    request.add_header(\"X-Naver-Client-Secret\", client_secret)\n",
    "    response = urllib.request.urlopen(request)\n",
    "    rescode = response.getcode()\n",
    "    if (rescode == 200):\n",
    "        response_body = response.read()\n",
    "        category_info = response_body.decode('utf-8')\n",
    "        category_info = json.loads(category_info)\n",
    "    else:\n",
    "        print(\"Error Code:\" + rescode)\n",
    "\n",
    "    item = category_info['items'][0]\n",
    "    category = item['category']\n",
    "    # print(category)\n",
    "    return category"
   ]
  },
  {
   "cell_type": "code",
   "execution_count": null,
   "metadata": {},
   "outputs": [
    {
     "name": "stdout",
     "output_type": "stream",
     "text": [
      "[[100.0, 37.57098826, 127.03692836, 2019.0, 45.0, ''], [100.0, 37.564182, 127.035261, 2019.0, 45.0, ''], [100.0, 37.5571771, 127.02857195, 2019.0, 45.0, ''], [100.0, 37.555773900000005, 127.02371215, 2019.0, 45.0, '']]\n",
      "[[100.0, 37.55804580833333, 127.03554640833333, 2019.0, 46.0, ''], [100.0, 37.574517900000004, 127.03918365, 2019.0, 46.0, ''], [100.0, 37.322905, 127.9599752, 2019.0, 46.0, ''], [100.0, 37.2984134, 127.6542364, 2019.0, 46.0, ''], [100.0, 37.5718741, 127.0352059, 2019.0, 46.0, '']]\n",
      "[[103.0, 37.58565438, 126.94953267000001, 2019.0, 45.0, ''], [103.0, 37.53928945, 127.12688455, 2019.0, 45.0, ''], [103.0, 37.517388600000004, 127.0706049, 2019.0, 45.0, ''], [103.0, 37.516333575000004, 127.070962175, 2019.0, 45.0, ''], [103.0, 37.56816225, 127.02315765, 2019.0, 45.0, ''], [103.0, 37.53656625, 127.12546115, 2019.0, 45.0, ''], [103.0, 37.5381098, 127.12326445, 2019.0, 45.0, ''], [103.0, 37.5668039, 126.9919643, 2019.0, 45.0, ''], [103.0, 37.5825383, 126.9504543, 2019.0, 45.0, '']]\n",
      "[[103.0, 37.56943274, 127.026952235, 2019.0, 46.0, ''], [103.0, 37.5681533375, 127.02316015, 2019.0, 46.0, ''], [103.0, 37.58810205, 127.064940475, 2019.0, 46.0, ''], [103.0, 37.579175975, 126.9368253, 2019.0, 46.0, ''], [103.0, 37.5269227, 126.9178832, 2019.0, 46.0, ''], [103.0, 37.5280574, 126.91766065, 2019.0, 46.0, ''], [103.0, 37.5683672, 127.0258258, 2019.0, 46.0, ''], [103.0, 37.556333, 126.93454585, 2019.0, 46.0, '']]\n",
      "[[103.0, 37.56944776666666, 127.02697174999999, 2019.0, 47.0, ''], [103.0, 37.56816015, 127.02316780000001, 2019.0, 47.0, ''], [103.0, 37.5695162, 127.030267, 2019.0, 47.0, '']]\n",
      "[[104.0, 37.507303325, 126.89045404999999, 2019.0, 45.0, ''], [104.0, 37.5643626, 127.02958205, 2019.0, 45.0, ''], [104.0, 37.566293, 127.0426859, 2019.0, 45.0, ''], [104.0, 37.5904794, 127.0845621, 2019.0, 45.0, ''], [104.0, 37.56157335, 127.0384803, 2019.0, 45.0, ''], [104.0, 37.4814918, 126.8837161, 2019.0, 45.0, ''], [104.0, 37.4810583, 126.8906094, 2019.0, 45.0, '']]\n",
      "[[104.0, 37.5688694, 126.9899889, 2019.0, 46.0, ''], [104.0, 37.5641354, 126.98462855, 2019.0, 46.0, ''], [104.0, 37.5638911, 126.98684705, 2019.0, 46.0, '']]\n",
      "[[107.0, 37.5728813, 127.0287953, 2019.0, 45.0, ''], [107.0, 37.5473238, 126.9317696, 2019.0, 45.0, ''], [107.0, 37.5893137, 127.0468928, 2019.0, 45.0, '']]\n",
      "[[107.0, 37.668129, 127.04655417500001, 2019.0, 46.0, ''], [107.0, 37.59765805, 127.0329046, 2019.0, 46.0, ''], [107.0, 37.5878077, 127.0454378, 2019.0, 46.0, '']]\n",
      "[[107.0, 37.586241828571424, 127.0315875142857, 2019.0, 47.0, ''], [107.0, 37.572964299999995, 127.02896305, 2019.0, 47.0, ''], [107.0, 37.5796159, 127.0428155, 2019.0, 47.0, '']]\n",
      "[[108.0, 37.5707129, 127.0341718, 2019.0, 45.0, '']]\n"
     ]
    },
    {
     "ename": "KeyError",
     "evalue": "'year'",
     "output_type": "error",
     "traceback": [
      "\u001b[0;31m---------------------------------------------------------------------------\u001b[0m",
      "\u001b[0;31mKeyError\u001b[0m                                  Traceback (most recent call last)",
      "File \u001b[0;32m/opt/homebrew/lib/python3.10/site-packages/pandas/core/indexes/base.py:3621\u001b[0m, in \u001b[0;36mIndex.get_loc\u001b[0;34m(self, key, method, tolerance)\u001b[0m\n\u001b[1;32m   3620\u001b[0m \u001b[39mtry\u001b[39;00m:\n\u001b[0;32m-> 3621\u001b[0m     \u001b[39mreturn\u001b[39;00m \u001b[39mself\u001b[39;49m\u001b[39m.\u001b[39;49m_engine\u001b[39m.\u001b[39;49mget_loc(casted_key)\n\u001b[1;32m   3622\u001b[0m \u001b[39mexcept\u001b[39;00m \u001b[39mKeyError\u001b[39;00m \u001b[39mas\u001b[39;00m err:\n",
      "File \u001b[0;32m/opt/homebrew/lib/python3.10/site-packages/pandas/_libs/index.pyx:136\u001b[0m, in \u001b[0;36mpandas._libs.index.IndexEngine.get_loc\u001b[0;34m()\u001b[0m\n",
      "File \u001b[0;32m/opt/homebrew/lib/python3.10/site-packages/pandas/_libs/index.pyx:163\u001b[0m, in \u001b[0;36mpandas._libs.index.IndexEngine.get_loc\u001b[0;34m()\u001b[0m\n",
      "File \u001b[0;32mpandas/_libs/hashtable_class_helper.pxi:5198\u001b[0m, in \u001b[0;36mpandas._libs.hashtable.PyObjectHashTable.get_item\u001b[0;34m()\u001b[0m\n",
      "File \u001b[0;32mpandas/_libs/hashtable_class_helper.pxi:5206\u001b[0m, in \u001b[0;36mpandas._libs.hashtable.PyObjectHashTable.get_item\u001b[0;34m()\u001b[0m\n",
      "\u001b[0;31mKeyError\u001b[0m: 'year'",
      "\nThe above exception was the direct cause of the following exception:\n",
      "\u001b[0;31mKeyError\u001b[0m                                  Traceback (most recent call last)",
      "Cell \u001b[0;32mIn [29], line 58\u001b[0m\n\u001b[1;32m     56\u001b[0m weeks \u001b[38;5;241m=\u001b[39m get_week(device_id)\n\u001b[1;32m     57\u001b[0m cluster_list \u001b[38;5;241m=\u001b[39m get_cluster(weeks)\n\u001b[0;32m---> 58\u001b[0m represent \u001b[38;5;241m=\u001b[39m \u001b[43mget_rep_cluster\u001b[49m\u001b[43m(\u001b[49m\u001b[43mcluster_list\u001b[49m\u001b[43m)\u001b[49m\n\u001b[1;32m     60\u001b[0m \u001b[38;5;28;01mwith\u001b[39;00m \u001b[38;5;28mopen\u001b[39m(\u001b[38;5;124m\"\u001b[39m\u001b[38;5;124m./staypoint/\u001b[39m\u001b[38;5;124m\"\u001b[39m\u001b[38;5;241m+\u001b[39mdevice_id\u001b[38;5;241m+\u001b[39m\u001b[38;5;124m'\u001b[39m\u001b[38;5;124m/cluster.csv\u001b[39m\u001b[38;5;124m'\u001b[39m, \u001b[38;5;124m'\u001b[39m\u001b[38;5;124mw\u001b[39m\u001b[38;5;124m'\u001b[39m, newline\u001b[38;5;241m=\u001b[39m\u001b[38;5;124m'\u001b[39m\u001b[38;5;124m'\u001b[39m) \u001b[38;5;28;01mas\u001b[39;00m f:\n\u001b[1;32m     61\u001b[0m     write \u001b[38;5;241m=\u001b[39m csv\u001b[38;5;241m.\u001b[39mwriter(f)\n",
      "Cell \u001b[0;32mIn [29], line 37\u001b[0m, in \u001b[0;36mget_rep_cluster\u001b[0;34m(cluster_list)\u001b[0m\n\u001b[1;32m     35\u001b[0m \u001b[38;5;66;03m# 평균값을 취해서 cluster별로 좌표 추출\u001b[39;00m\n\u001b[1;32m     36\u001b[0m ndf \u001b[38;5;241m=\u001b[39m ndf\u001b[38;5;241m.\u001b[39mgroupby(\u001b[38;5;124m'\u001b[39m\u001b[38;5;124mcluster\u001b[39m\u001b[38;5;124m'\u001b[39m)\u001b[38;5;241m.\u001b[39mmean()\n\u001b[0;32m---> 37\u001b[0m ndf[\u001b[38;5;124m'\u001b[39m\u001b[38;5;124myear\u001b[39m\u001b[38;5;124m'\u001b[39m] \u001b[38;5;241m=\u001b[39m \u001b[43mndf\u001b[49m\u001b[43m[\u001b[49m\u001b[38;5;124;43m'\u001b[39;49m\u001b[38;5;124;43myear\u001b[39;49m\u001b[38;5;124;43m'\u001b[39;49m\u001b[43m]\u001b[49m\u001b[38;5;241m.\u001b[39mastype(\u001b[38;5;124m'\u001b[39m\u001b[38;5;124mobject\u001b[39m\u001b[38;5;124m'\u001b[39m)\n\u001b[1;32m     38\u001b[0m ndf[\u001b[38;5;124m'\u001b[39m\u001b[38;5;124mcategory\u001b[39m\u001b[38;5;124m'\u001b[39m] \u001b[38;5;241m=\u001b[39m \u001b[38;5;124m'\u001b[39m\u001b[38;5;124m'\u001b[39m\n\u001b[1;32m     40\u001b[0m \u001b[38;5;66;03m# for idx in ndf.index:\u001b[39;00m\n\u001b[1;32m     41\u001b[0m \u001b[38;5;66;03m#     x = \"{:.7f}\".format(ndf.loc[idx, 'lng'])\u001b[39;00m\n\u001b[1;32m     42\u001b[0m \u001b[38;5;66;03m#     y = \"{:.7f}\".format(ndf.loc[idx, 'lat'])\u001b[39;00m\n\u001b[0;32m   (...)\u001b[0m\n\u001b[1;32m     45\u001b[0m \u001b[38;5;66;03m#     category = place_to_category(place)\u001b[39;00m\n\u001b[1;32m     46\u001b[0m \u001b[38;5;66;03m#     ndf.loc[idx, 'category'] = category\u001b[39;00m\n",
      "File \u001b[0;32m~/Github/graduation/skmob/core/trajectorydataframe.py:337\u001b[0m, in \u001b[0;36mTrajDataFrame.__getitem__\u001b[0;34m(self, key)\u001b[0m\n\u001b[1;32m    333\u001b[0m \u001b[39mdef\u001b[39;00m \u001b[39m__getitem__\u001b[39m(\u001b[39mself\u001b[39m, key):\n\u001b[1;32m    334\u001b[0m     \u001b[39m\"\"\"\u001b[39;00m\n\u001b[1;32m    335\u001b[0m \u001b[39m    If the result contains lat, lng and datetime, return a TrajDataFrame, else a pandas DataFrame.\u001b[39;00m\n\u001b[1;32m    336\u001b[0m \u001b[39m    \"\"\"\u001b[39;00m\n\u001b[0;32m--> 337\u001b[0m     result \u001b[39m=\u001b[39m \u001b[39msuper\u001b[39;49m(TrajDataFrame, \u001b[39mself\u001b[39;49m)\u001b[39m.\u001b[39;49m\u001b[39m__getitem__\u001b[39;49m(key)\n\u001b[1;32m    339\u001b[0m     \u001b[39mif\u001b[39;00m (\u001b[39misinstance\u001b[39m(result, TrajDataFrame)) \u001b[39mand\u001b[39;00m result\u001b[39m.\u001b[39m_is_trajdataframe():\n\u001b[1;32m    340\u001b[0m         result\u001b[39m.\u001b[39m\u001b[39m__class__\u001b[39m \u001b[39m=\u001b[39m TrajDataFrame\n",
      "File \u001b[0;32m/opt/homebrew/lib/python3.10/site-packages/pandas/core/frame.py:3505\u001b[0m, in \u001b[0;36mDataFrame.__getitem__\u001b[0;34m(self, key)\u001b[0m\n\u001b[1;32m   3503\u001b[0m \u001b[39mif\u001b[39;00m \u001b[39mself\u001b[39m\u001b[39m.\u001b[39mcolumns\u001b[39m.\u001b[39mnlevels \u001b[39m>\u001b[39m \u001b[39m1\u001b[39m:\n\u001b[1;32m   3504\u001b[0m     \u001b[39mreturn\u001b[39;00m \u001b[39mself\u001b[39m\u001b[39m.\u001b[39m_getitem_multilevel(key)\n\u001b[0;32m-> 3505\u001b[0m indexer \u001b[39m=\u001b[39m \u001b[39mself\u001b[39;49m\u001b[39m.\u001b[39;49mcolumns\u001b[39m.\u001b[39;49mget_loc(key)\n\u001b[1;32m   3506\u001b[0m \u001b[39mif\u001b[39;00m is_integer(indexer):\n\u001b[1;32m   3507\u001b[0m     indexer \u001b[39m=\u001b[39m [indexer]\n",
      "File \u001b[0;32m/opt/homebrew/lib/python3.10/site-packages/pandas/core/indexes/base.py:3623\u001b[0m, in \u001b[0;36mIndex.get_loc\u001b[0;34m(self, key, method, tolerance)\u001b[0m\n\u001b[1;32m   3621\u001b[0m     \u001b[39mreturn\u001b[39;00m \u001b[39mself\u001b[39m\u001b[39m.\u001b[39m_engine\u001b[39m.\u001b[39mget_loc(casted_key)\n\u001b[1;32m   3622\u001b[0m \u001b[39mexcept\u001b[39;00m \u001b[39mKeyError\u001b[39;00m \u001b[39mas\u001b[39;00m err:\n\u001b[0;32m-> 3623\u001b[0m     \u001b[39mraise\u001b[39;00m \u001b[39mKeyError\u001b[39;00m(key) \u001b[39mfrom\u001b[39;00m \u001b[39merr\u001b[39;00m\n\u001b[1;32m   3624\u001b[0m \u001b[39mexcept\u001b[39;00m \u001b[39mTypeError\u001b[39;00m:\n\u001b[1;32m   3625\u001b[0m     \u001b[39m# If we have a listlike key, _check_indexing_error will raise\u001b[39;00m\n\u001b[1;32m   3626\u001b[0m     \u001b[39m#  InvalidIndexError. Otherwise we fall through and re-raise\u001b[39;00m\n\u001b[1;32m   3627\u001b[0m     \u001b[39m#  the TypeError.\u001b[39;00m\n\u001b[1;32m   3628\u001b[0m     \u001b[39mself\u001b[39m\u001b[39m.\u001b[39m_check_indexing_error(key)\n",
      "\u001b[0;31mKeyError\u001b[0m: 'year'"
     ]
    }
   ],
   "source": [
    "device_id_list = []\n",
    "for it in os.scandir('./staypoint'):\n",
    "    if it.is_dir():\n",
    "        if it.name.isdigit():\n",
    "            device_id_list.append(it.name)\n",
    "device_id_list.sort()\n",
    "\n",
    "\n",
    "def get_week(device_id):\n",
    "    stdf = skmob.TrajDataFrame.from_file('./staypoint/'+device_id+'/stay_points.csv',\n",
    "                                         latitude='latitude', longitude='longitude', user_id='deviceid', datetime='arrive_time')\n",
    "    stdf['leaving_datetime'] = pd.to_datetime(stdf['leaving_datetime'])\n",
    "    weeks = [g for n, g in stdf.set_index(\n",
    "        'datetime').groupby(pd.Grouper(freq='W'))]\n",
    "    return weeks\n",
    "\n",
    "\n",
    "\n",
    "\n",
    "\n",
    "def get_cluster(weeks):\n",
    "    cluster_list = list()\n",
    "    for x in weeks:\n",
    "        cstdf = clustering.cluster(\n",
    "            x.reset_index(), cluster_radius_km=0.1, min_samples=1)\n",
    "        cluster_list.append(cstdf)\n",
    "    return cluster_list\n",
    "\n",
    "\n",
    "\n",
    "def get_rep_cluster(cluster_list):\n",
    "    rep_cluster_list = []\n",
    "    for df in cluster_list:\n",
    "        idx = df[df['cluster'] == 0].index\n",
    "        ndf = df.drop(idx)\n",
    "        ndf['year'] = ndf['datetime'].map(lambda x: x.isocalendar()[0])\n",
    "        ndf['week'] = ndf['datetime'].map(lambda x: x.isocalendar()[1])\n",
    "\n",
    "        # 평균값을 취해서 cluster별로 좌표 추출\n",
    "        ndf = ndf.groupby('cluster').mean()\n",
    "        ndf['year'] = ndf['year'].astype('object')\n",
    "        ndf['category'] = ''\n",
    "\n",
    "        for idx in ndf.index:\n",
    "            x = \"{:.7f}\".format(ndf.loc[idx, 'lng'])\n",
    "            y = \"{:.7f}\".format(ndf.loc[idx, 'lat'])\n",
    "            # print(f\"x: {x} y: {y}\")\n",
    "            place = coords_to_place(x, y)\n",
    "            category = place_to_category(place)\n",
    "            ndf.loc[idx, 'category'] = category\n",
    "\n",
    "        rep_cluster_list.append(ndf)\n",
    "\n",
    "    return rep_cluster_list\n",
    "\n",
    "\n",
    "for device_id in device_id_list:\n",
    "    fields = ['deviceid', 'latitude', 'longitude', 'year', 'week', 'category']\n",
    "    path = \"./staypoint/\" + device_id\n",
    "    weeks = get_week(device_id)\n",
    "    cluster_list = get_cluster(weeks)\n",
    "    represent = get_rep_cluster(cluster_list)\n",
    "\n",
    "    with open(\"./staypoint/\"+device_id+'/category.csv', 'w', newline='') as f:\n",
    "        write = csv.writer(f)\n",
    "        write.writerow(fields)\n",
    "\n",
    "        for df in represent:\n",
    "            rep = df.values.tolist()\n",
    "            # print(rep)\n",
    "            write.writerows(rep)\n"
   ]
  }
 ],
 "metadata": {
  "kernelspec": {
   "display_name": "Python 3.10.6 64-bit",
   "language": "python",
   "name": "python3"
  },
  "language_info": {
   "codemirror_mode": {
    "name": "ipython",
    "version": 3
   },
   "file_extension": ".py",
   "mimetype": "text/x-python",
   "name": "python",
   "nbconvert_exporter": "python",
   "pygments_lexer": "ipython3",
   "version": "3.9.8"
  },
  "orig_nbformat": 4,
  "vscode": {
   "interpreter": {
    "hash": "b0fa6594d8f4cbf19f97940f81e996739fb7646882a419484c72d19e05852a7e"
   }
  }
 },
 "nbformat": 4,
 "nbformat_minor": 2
}
